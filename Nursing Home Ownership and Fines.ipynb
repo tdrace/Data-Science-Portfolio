{
 "cells": [
  {
   "cell_type": "markdown",
   "metadata": {},
   "source": [
    "## Executive Summary\n",
    "\n",
    "This project explored two datasets from the Centers of Medicare & Medicaid Services (CMS) on nursing home ownership composition, and penalties issued to nursing homes by CMS and how much the nursing homes were fined. The purpose was to determine if there were differences ownership composition between nursing homes that received fines versus those that did not receive fines. We discovered that nursing homes with ownerships that were predominantly organizational in nature seemed to be fined more often than ownerships that were predominantly female."
   ]
  },
  {
   "cell_type": "markdown",
   "metadata": {},
   "source": [
    "## Introduction\n",
    "\n",
    "Nursing homes receive fines from CMS if they appear to endanger or injure residents, or for poor financial management (Amirkhanyan, Meier, O’Toole Jr., Dakhwe, & Janzen, 2018). Fines put nursing homes on notice that they need to improve their practices or risk going out of business (Drevs, Tscheulin, & Lindenmeier, 2014). This is important not just for healthcare administration but for the residents of nursing homes themselves: lower quality of life can be tied to increased healthcare spending and greater inefficiency in the healthcare system (Konetzka, Norton, & Stearns, 2006).\n",
    "\n",
    "The purpose of this study was to determine the relationship between nursing home ownership composition and the prevalence of fines among nursing homes. Skilled nursing facilities (SNFs) who accept Medicare for payment are subject to quality and data collection standards that SNFs who do not accept Medicare have no need to contend with (Eramo, 2019). However, the data collected by these Medicare-accepting SNFs is important to understanding how SNFs succeed or fail to meet quality of life expectations of their residents. Previous literature has demonstrated that SNF ownership and staffing levels are correlated to such outcomes as hospitalizations and early death in short- and long-term SNF residents (Hirth, Grabowski, Feng, Rahman, & Mor, 2014). It is worth exploring whether gender dimensions of SNF ownership also correlate or can predict these adverse outcomes.\n",
    "\n",
    "We will be looking at the ownership dimensions of SNFs in order to predict likelihood that any given SNF will receive a fine from CMS. Namely, we will be looking at private versus public ownership, corporate or otherwise, and for SNFs who maintain a board of owners, whether the gender composition of the ownership groups can predict likelihood that a SNF will receive a fine. These are important questions to ask because it is already known in the extant literature that dimensions such as these lead to increases or reductions in rates of hospitalizations and early deaths in both short- and long-term SNF residents (Mezuk, Lohman, Leslie, & Powell, 2015)."
   ]
  },
  {
   "cell_type": "code",
   "execution_count": 1,
   "metadata": {},
   "outputs": [],
   "source": [
    "import pandas as pd\n",
    "import numpy as np\n",
    "import matplotlib.pyplot as plt\n",
    "from sklearn.utils import shuffle\n",
    "from sklearn.feature_extraction import DictVectorizer\n",
    "from sklearn.tree import DecisionTreeClassifier"
   ]
  },
  {
   "cell_type": "code",
   "execution_count": 2,
   "metadata": {},
   "outputs": [],
   "source": [
    "df_ownership = pd.read_csv('Ownership.csv')\n",
    "df_penalties = pd.read_csv('Penalty_Counts.csv')\n",
    "names = pd.read_csv('names_dataset.csv')"
   ]
  },
  {
   "cell_type": "markdown",
   "metadata": {},
   "source": [
    "## EDA and Clean-Up\n",
    "\n",
    "Below, we take a look at our data and figure out what to do with it."
   ]
  },
  {
   "cell_type": "code",
   "execution_count": 3,
   "metadata": {},
   "outputs": [
    {
     "name": "stdout",
     "output_type": "stream",
     "text": [
      "<class 'pandas.core.frame.DataFrame'>\n",
      "RangeIndex: 167341 entries, 0 to 167340\n",
      "Data columns (total 13 columns):\n",
      "Federal Provider Number                        167341 non-null object\n",
      "Provider Name                                  167341 non-null object\n",
      "Provider Address                               167341 non-null object\n",
      "Provider City                                  167341 non-null object\n",
      "Provider State                                 167341 non-null object\n",
      "Provider Zip Code                              167341 non-null int64\n",
      "Role played by Owner or Manager in Facility    167341 non-null object\n",
      "Owner Type                                     166570 non-null object\n",
      "Owner Name                                     166570 non-null object\n",
      "Ownership Percentage                           166570 non-null object\n",
      "Association Date                               166570 non-null object\n",
      "Location                                       167094 non-null object\n",
      "Processing Date                                167341 non-null object\n",
      "dtypes: int64(1), object(12)\n",
      "memory usage: 16.6+ MB\n"
     ]
    }
   ],
   "source": [
    "df_ownership.info()"
   ]
  },
  {
   "cell_type": "markdown",
   "metadata": {},
   "source": [
    "We can see that our data on nursing home ownership contains 13 features and 167,341 observations."
   ]
  },
  {
   "cell_type": "code",
   "execution_count": 4,
   "metadata": {},
   "outputs": [
    {
     "name": "stdout",
     "output_type": "stream",
     "text": [
      "<class 'pandas.core.frame.DataFrame'>\n",
      "RangeIndex: 15491 entries, 0 to 15490\n",
      "Data columns (total 9 columns):\n",
      "Federal Provider Number             15491 non-null object\n",
      "Provider Name                       15491 non-null object\n",
      "Provider State                      15491 non-null object\n",
      "Number of Fines                     15491 non-null int64\n",
      "Total Amount of Fines in Dollars    15491 non-null float64\n",
      "Number of Payment Denials           15491 non-null int64\n",
      "Total Number of Penalties           15491 non-null int64\n",
      "Location                            15468 non-null object\n",
      "Processing Date                     15491 non-null object\n",
      "dtypes: float64(1), int64(3), object(5)\n",
      "memory usage: 1.1+ MB\n"
     ]
    }
   ],
   "source": [
    "df_penalties.info()"
   ]
  },
  {
   "cell_type": "markdown",
   "metadata": {},
   "source": [
    "We can see that our data on nursing home fines contains 11 features and 15,491 observations. These 15,491 are each individual nursing facilities. We can see also that Federal Provider Number is the key on which we can join the data.\n",
    "\n",
    "Now, we need to figure out which features in our ownership data are pertinent to our analysis."
   ]
  },
  {
   "cell_type": "code",
   "execution_count": 5,
   "metadata": {},
   "outputs": [],
   "source": [
    "ownership_cols = ['Federal Provider Number', \n",
    "                  'Provider Name', \n",
    "                  'Role played by Owner or Manager in Facility', \n",
    "                  'Owner Type', \n",
    "                  'Owner Name']"
   ]
  },
  {
   "cell_type": "code",
   "execution_count": 6,
   "metadata": {},
   "outputs": [],
   "source": [
    "# taking out 'Ownership Percentage', limiting scope of project\n",
    "df_ownership_reduced = df_ownership[ownership_cols]"
   ]
  },
  {
   "cell_type": "code",
   "execution_count": 7,
   "metadata": {},
   "outputs": [
    {
     "data": {
      "text/plain": [
       "Individual      123621\n",
       "Organization     42949\n",
       "Name: Owner Type, dtype: int64"
      ]
     },
     "execution_count": 7,
     "metadata": {},
     "output_type": "execute_result"
    }
   ],
   "source": [
    "df_ownership_reduced['Owner Type'].value_counts()"
   ]
  },
  {
   "cell_type": "markdown",
   "metadata": {},
   "source": [
    "There are 123,621 observations of individual owners and 42,949 observations of organizations that own nursing homes. Since there are only 15,491 total nursing homes in the CMS dataset, we can infer that each nursing home has a high likelihood of having more than one owner. Let's verify our assumption:"
   ]
  },
  {
   "cell_type": "code",
   "execution_count": 8,
   "metadata": {},
   "outputs": [
    {
     "data": {
      "text/html": [
       "<div>\n",
       "<style scoped>\n",
       "    .dataframe tbody tr th:only-of-type {\n",
       "        vertical-align: middle;\n",
       "    }\n",
       "\n",
       "    .dataframe tbody tr th {\n",
       "        vertical-align: top;\n",
       "    }\n",
       "\n",
       "    .dataframe thead th {\n",
       "        text-align: right;\n",
       "    }\n",
       "</style>\n",
       "<table border=\"1\" class=\"dataframe\">\n",
       "  <thead>\n",
       "    <tr style=\"text-align: right;\">\n",
       "      <th></th>\n",
       "      <th>Federal Provider Number</th>\n",
       "      <th>Provider Name</th>\n",
       "      <th>Role played by Owner or Manager in Facility</th>\n",
       "      <th>Owner Type</th>\n",
       "      <th>Owner Name</th>\n",
       "    </tr>\n",
       "  </thead>\n",
       "  <tbody>\n",
       "    <tr>\n",
       "      <th>5363</th>\n",
       "      <td>015009</td>\n",
       "      <td>BURNS NURSING HOME, INC.</td>\n",
       "      <td>5% OR GREATER DIRECT OWNERSHIP INTEREST</td>\n",
       "      <td>Individual</td>\n",
       "      <td>DEARMAN, MARTHA</td>\n",
       "    </tr>\n",
       "    <tr>\n",
       "      <th>18539</th>\n",
       "      <td>015009</td>\n",
       "      <td>BURNS NURSING HOME, INC.</td>\n",
       "      <td>OFFICER</td>\n",
       "      <td>Individual</td>\n",
       "      <td>DEARMAN, MARTHA</td>\n",
       "    </tr>\n",
       "    <tr>\n",
       "      <th>13378</th>\n",
       "      <td>015009</td>\n",
       "      <td>BURNS NURSING HOME, INC.</td>\n",
       "      <td>OFFICER</td>\n",
       "      <td>Individual</td>\n",
       "      <td>DEARMAN, LARRY</td>\n",
       "    </tr>\n",
       "    <tr>\n",
       "      <th>1149</th>\n",
       "      <td>015009</td>\n",
       "      <td>BURNS NURSING HOME, INC.</td>\n",
       "      <td>5% OR GREATER DIRECT OWNERSHIP INTEREST</td>\n",
       "      <td>Individual</td>\n",
       "      <td>DEARMAN, LARRY</td>\n",
       "    </tr>\n",
       "    <tr>\n",
       "      <th>1698</th>\n",
       "      <td>015009</td>\n",
       "      <td>BURNS NURSING HOME, INC.</td>\n",
       "      <td>MANAGING EMPLOYEE</td>\n",
       "      <td>Individual</td>\n",
       "      <td>DEARMAN, MARTHA</td>\n",
       "    </tr>\n",
       "    <tr>\n",
       "      <th>9400</th>\n",
       "      <td>015009</td>\n",
       "      <td>BURNS NURSING HOME, INC.</td>\n",
       "      <td>DIRECTOR</td>\n",
       "      <td>Individual</td>\n",
       "      <td>DEARMAN, MARTHA</td>\n",
       "    </tr>\n",
       "    <tr>\n",
       "      <th>17293</th>\n",
       "      <td>015010</td>\n",
       "      <td>COOSA VALLEY HEALTHCARE CENTER</td>\n",
       "      <td>OPERATIONAL/MANAGERIAL CONTROL</td>\n",
       "      <td>Individual</td>\n",
       "      <td>CHAPMAN, ARCHIE</td>\n",
       "    </tr>\n",
       "    <tr>\n",
       "      <th>5640</th>\n",
       "      <td>015010</td>\n",
       "      <td>COOSA VALLEY HEALTHCARE CENTER</td>\n",
       "      <td>5% OR GREATER DIRECT OWNERSHIP INTEREST</td>\n",
       "      <td>Individual</td>\n",
       "      <td>CHAPMAN, ARCHIE</td>\n",
       "    </tr>\n",
       "    <tr>\n",
       "      <th>1922</th>\n",
       "      <td>015010</td>\n",
       "      <td>COOSA VALLEY HEALTHCARE CENTER</td>\n",
       "      <td>OFFICER</td>\n",
       "      <td>Individual</td>\n",
       "      <td>CHAPMAN, ARCHIE</td>\n",
       "    </tr>\n",
       "    <tr>\n",
       "      <th>12091</th>\n",
       "      <td>015010</td>\n",
       "      <td>COOSA VALLEY HEALTHCARE CENTER</td>\n",
       "      <td>OPERATIONAL/MANAGERIAL CONTROL</td>\n",
       "      <td>Organization</td>\n",
       "      <td>PRIME MANAGEMENT, LLC</td>\n",
       "    </tr>\n",
       "    <tr>\n",
       "      <th>7732</th>\n",
       "      <td>015010</td>\n",
       "      <td>COOSA VALLEY HEALTHCARE CENTER</td>\n",
       "      <td>DIRECTOR</td>\n",
       "      <td>Individual</td>\n",
       "      <td>CHAPMAN, ARCHIE</td>\n",
       "    </tr>\n",
       "    <tr>\n",
       "      <th>15742</th>\n",
       "      <td>015012</td>\n",
       "      <td>HIGHLANDS HEALTH AND REHAB</td>\n",
       "      <td>5% OR GREATER DIRECT OWNERSHIP INTEREST</td>\n",
       "      <td>Organization</td>\n",
       "      <td>JACKSON COUNTY HEALTH CARE AUTHORITY</td>\n",
       "    </tr>\n",
       "    <tr>\n",
       "      <th>11097</th>\n",
       "      <td>015012</td>\n",
       "      <td>HIGHLANDS HEALTH AND REHAB</td>\n",
       "      <td>MANAGING EMPLOYEE</td>\n",
       "      <td>Individual</td>\n",
       "      <td>NEWELL, DAN</td>\n",
       "    </tr>\n",
       "    <tr>\n",
       "      <th>3157</th>\n",
       "      <td>015014</td>\n",
       "      <td>EASTVIEW REHABILITATION &amp; HEALTHCARE CENTER</td>\n",
       "      <td>OPERATIONAL/MANAGERIAL CONTROL</td>\n",
       "      <td>Organization</td>\n",
       "      <td>BALL HEALTHCARE SERVICE, INC</td>\n",
       "    </tr>\n",
       "    <tr>\n",
       "      <th>8999</th>\n",
       "      <td>015014</td>\n",
       "      <td>EASTVIEW REHABILITATION &amp; HEALTHCARE CENTER</td>\n",
       "      <td>5% OR GREATER DIRECT OWNERSHIP INTEREST</td>\n",
       "      <td>Individual</td>\n",
       "      <td>BALL, CLARENCE</td>\n",
       "    </tr>\n",
       "  </tbody>\n",
       "</table>\n",
       "</div>"
      ],
      "text/plain": [
       "      Federal Provider Number                                Provider Name  \\\n",
       "5363                   015009                     BURNS NURSING HOME, INC.   \n",
       "18539                  015009                     BURNS NURSING HOME, INC.   \n",
       "13378                  015009                     BURNS NURSING HOME, INC.   \n",
       "1149                   015009                     BURNS NURSING HOME, INC.   \n",
       "1698                   015009                     BURNS NURSING HOME, INC.   \n",
       "9400                   015009                     BURNS NURSING HOME, INC.   \n",
       "17293                  015010               COOSA VALLEY HEALTHCARE CENTER   \n",
       "5640                   015010               COOSA VALLEY HEALTHCARE CENTER   \n",
       "1922                   015010               COOSA VALLEY HEALTHCARE CENTER   \n",
       "12091                  015010               COOSA VALLEY HEALTHCARE CENTER   \n",
       "7732                   015010               COOSA VALLEY HEALTHCARE CENTER   \n",
       "15742                  015012                   HIGHLANDS HEALTH AND REHAB   \n",
       "11097                  015012                   HIGHLANDS HEALTH AND REHAB   \n",
       "3157                   015014  EASTVIEW REHABILITATION & HEALTHCARE CENTER   \n",
       "8999                   015014  EASTVIEW REHABILITATION & HEALTHCARE CENTER   \n",
       "\n",
       "      Role played by Owner or Manager in Facility    Owner Type  \\\n",
       "5363      5% OR GREATER DIRECT OWNERSHIP INTEREST    Individual   \n",
       "18539                                     OFFICER    Individual   \n",
       "13378                                     OFFICER    Individual   \n",
       "1149      5% OR GREATER DIRECT OWNERSHIP INTEREST    Individual   \n",
       "1698                            MANAGING EMPLOYEE    Individual   \n",
       "9400                                     DIRECTOR    Individual   \n",
       "17293              OPERATIONAL/MANAGERIAL CONTROL    Individual   \n",
       "5640      5% OR GREATER DIRECT OWNERSHIP INTEREST    Individual   \n",
       "1922                                      OFFICER    Individual   \n",
       "12091              OPERATIONAL/MANAGERIAL CONTROL  Organization   \n",
       "7732                                     DIRECTOR    Individual   \n",
       "15742     5% OR GREATER DIRECT OWNERSHIP INTEREST  Organization   \n",
       "11097                           MANAGING EMPLOYEE    Individual   \n",
       "3157               OPERATIONAL/MANAGERIAL CONTROL  Organization   \n",
       "8999      5% OR GREATER DIRECT OWNERSHIP INTEREST    Individual   \n",
       "\n",
       "                                 Owner Name  \n",
       "5363                        DEARMAN, MARTHA  \n",
       "18539                       DEARMAN, MARTHA  \n",
       "13378                        DEARMAN, LARRY  \n",
       "1149                         DEARMAN, LARRY  \n",
       "1698                        DEARMAN, MARTHA  \n",
       "9400                        DEARMAN, MARTHA  \n",
       "17293                       CHAPMAN, ARCHIE  \n",
       "5640                        CHAPMAN, ARCHIE  \n",
       "1922                        CHAPMAN, ARCHIE  \n",
       "12091                 PRIME MANAGEMENT, LLC  \n",
       "7732                        CHAPMAN, ARCHIE  \n",
       "15742  JACKSON COUNTY HEALTH CARE AUTHORITY  \n",
       "11097                           NEWELL, DAN  \n",
       "3157           BALL HEALTHCARE SERVICE, INC  \n",
       "8999                         BALL, CLARENCE  "
      ]
     },
     "execution_count": 8,
     "metadata": {},
     "output_type": "execute_result"
    }
   ],
   "source": [
    "df_ownership_reduced.sort_values('Federal Provider Number').head(15)"
   ]
  },
  {
   "cell_type": "markdown",
   "metadata": {},
   "source": [
    "Our assumption was correct.\n",
    "\n",
    "Now let's separate out individuals owners from organization owners. From that, we will infer the gender of each individual owner."
   ]
  },
  {
   "cell_type": "code",
   "execution_count": 9,
   "metadata": {},
   "outputs": [],
   "source": [
    "organization = df_ownership_reduced['Owner Type'] == 'Organization'\n",
    "individuals = df_ownership_reduced['Owner Type'] == 'Individual'"
   ]
  },
  {
   "cell_type": "code",
   "execution_count": 10,
   "metadata": {},
   "outputs": [],
   "source": [
    "df_ownership_organizations = df_ownership_reduced[organization]\n",
    "df_ownership_individuals = df_ownership_reduced[individuals]"
   ]
  },
  {
   "cell_type": "markdown",
   "metadata": {},
   "source": [
    "We can only infer gender from first name, so we have to split that out from the complete name strings."
   ]
  },
  {
   "cell_type": "code",
   "execution_count": 11,
   "metadata": {},
   "outputs": [
    {
     "name": "stderr",
     "output_type": "stream",
     "text": [
      "C:\\Users\\tdrace\\AppData\\Local\\Continuum\\anaconda3\\lib\\site-packages\\pandas\\core\\frame.py:3509: SettingWithCopyWarning: \n",
      "A value is trying to be set on a copy of a slice from a DataFrame.\n",
      "Try using .loc[row_indexer,col_indexer] = value instead\n",
      "\n",
      "See the caveats in the documentation: http://pandas.pydata.org/pandas-docs/stable/user_guide/indexing.html#returning-a-view-versus-a-copy\n",
      "  self[k1] = value[k2]\n",
      "C:\\Users\\tdrace\\AppData\\Local\\Continuum\\anaconda3\\lib\\site-packages\\ipykernel_launcher.py:2: SettingWithCopyWarning: \n",
      "A value is trying to be set on a copy of a slice from a DataFrame.\n",
      "Try using .loc[row_indexer,col_indexer] = value instead\n",
      "\n",
      "See the caveats in the documentation: http://pandas.pydata.org/pandas-docs/stable/user_guide/indexing.html#returning-a-view-versus-a-copy\n",
      "  \n"
     ]
    }
   ],
   "source": [
    "df_ownership_individuals[['last_name', 'first_name']] = df_ownership_individuals['Owner Name'].str.split(', ', n=1, expand=True)\n",
    "df_ownership_individuals['first_name'] = df_ownership_individuals['first_name'].str.lower().str.capitalize()"
   ]
  },
  {
   "cell_type": "code",
   "execution_count": 12,
   "metadata": {},
   "outputs": [
    {
     "data": {
      "text/plain": [
       "0     Pamala\n",
       "1        Jan\n",
       "2    Timothy\n",
       "3       Chad\n",
       "4     Sheila\n",
       "Name: first_name, dtype: object"
      ]
     },
     "execution_count": 12,
     "metadata": {},
     "output_type": "execute_result"
    }
   ],
   "source": [
    "df_ownership_individuals['first_name'].head()"
   ]
  },
  {
   "cell_type": "markdown",
   "metadata": {},
   "source": [
    "Now we will use decision tree classification from scikit-learn in order to infer gender based on features found in the names. Our training data comes from a subset of Social Security Administration data found here: https://catalog.data.gov/dataset/baby-names-from-social-security-card-applications-national-level-data. We are following a tutorial found here: https://nlpforhackers.io/introduction-machine-learning/\n",
    "\n",
    "First, we explore the dimensions of our training data:"
   ]
  },
  {
   "cell_type": "code",
   "execution_count": 13,
   "metadata": {},
   "outputs": [
    {
     "name": "stdout",
     "output_type": "stream",
     "text": [
      "95025 names in dataset\n"
     ]
    }
   ],
   "source": [
    "print(\"%d names in dataset\" % len(names)) "
   ]
  },
  {
   "cell_type": "markdown",
   "metadata": {},
   "source": [
    "Now we define our names variable as being a matrix of all names found in the set and also designate the training split at 80%:"
   ]
  },
  {
   "cell_type": "code",
   "execution_count": 14,
   "metadata": {},
   "outputs": [
    {
     "name": "stderr",
     "output_type": "stream",
     "text": [
      "C:\\Users\\tdrace\\AppData\\Local\\Continuum\\anaconda3\\lib\\site-packages\\ipykernel_launcher.py:1: FutureWarning: Method .as_matrix will be removed in a future version. Use .values instead.\n",
      "  \"\"\"Entry point for launching an IPython kernel.\n"
     ]
    }
   ],
   "source": [
    "names = names.as_matrix()[:, 1:]\n",
    "train_split = 0.8"
   ]
  },
  {
   "cell_type": "markdown",
   "metadata": {},
   "source": [
    "We define a function to extract the features from the name strings to form a basis for prediction:"
   ]
  },
  {
   "cell_type": "code",
   "execution_count": 15,
   "metadata": {},
   "outputs": [],
   "source": [
    "def features(name):\n",
    "    name = name.lower()\n",
    "    return {\n",
    "        'first-letter': name[0], # First letter\n",
    "        'first2-letters': name[0:2], # First 2 letters\n",
    "        'first3-letters': name[0:3], # First 3 letters\n",
    "        'last-letter': name[-1],\n",
    "        'last2-letters': name[-2:],\n",
    "        'last3-letters': name[-3:],\n",
    "    }"
   ]
  },
  {
   "cell_type": "code",
   "execution_count": 16,
   "metadata": {},
   "outputs": [
    {
     "name": "stdout",
     "output_type": "stream",
     "text": [
      "{'first-letter': 'j', 'first2-letters': 'jo', 'first3-letters': 'joh', 'last-letter': 'n', 'last2-letters': 'hn', 'last3-letters': 'ohn'}\n"
     ]
    }
   ],
   "source": [
    "print(features(\"John\"))"
   ]
  },
  {
   "cell_type": "markdown",
   "metadata": {},
   "source": [
    "We need to vectorize our features so that they can be interpreted by the learning algorithm:"
   ]
  },
  {
   "cell_type": "code",
   "execution_count": 17,
   "metadata": {},
   "outputs": [
    {
     "name": "stdout",
     "output_type": "stream",
     "text": [
      "[{'first-letter': 'a', 'first2-letters': 'an', 'first3-letters': 'ann', 'last-letter': 'a', 'last2-letters': 'na', 'last3-letters': 'nna'}\n",
      " {'first-letter': 'h', 'first2-letters': 'ha', 'first3-letters': 'han', 'last-letter': 'h', 'last2-letters': 'ah', 'last3-letters': 'nah'}\n",
      " {'first-letter': 'p', 'first2-letters': 'pa', 'first3-letters': 'pau', 'last-letter': 'l', 'last2-letters': 'ul', 'last3-letters': 'aul'}]\n"
     ]
    }
   ],
   "source": [
    "features = np.vectorize(features)\n",
    "print(features([\"Anna\", \"Hannah\", \"Paul\"]))"
   ]
  },
  {
   "cell_type": "markdown",
   "metadata": {},
   "source": [
    "Now we extract the features of the entire names dataset:"
   ]
  },
  {
   "cell_type": "code",
   "execution_count": 18,
   "metadata": {},
   "outputs": [],
   "source": [
    "X = features(names[:, 0])"
   ]
  },
  {
   "cell_type": "markdown",
   "metadata": {},
   "source": [
    "We also need the targets that we're predicting, in this case the gender found associated with each of the 95,025 names:"
   ]
  },
  {
   "cell_type": "code",
   "execution_count": 19,
   "metadata": {},
   "outputs": [],
   "source": [
    "y = names[:, 1]"
   ]
  },
  {
   "cell_type": "markdown",
   "metadata": {},
   "source": [
    "Now we'll test to see if we built the dataset correctly:"
   ]
  },
  {
   "cell_type": "code",
   "execution_count": 20,
   "metadata": {},
   "outputs": [
    {
     "name": "stdout",
     "output_type": "stream",
     "text": [
      "Name: Mary, features={'first-letter': 'm', 'first2-letters': 'ma', 'first3-letters': 'mar', 'last-letter': 'y', 'last2-letters': 'ry', 'last3-letters': 'ary'}, gender=F\n"
     ]
    }
   ],
   "source": [
    "print(\"Name: %s, features=%s, gender=%s\" % (names[0][0], X[0], y[0]))"
   ]
  },
  {
   "cell_type": "markdown",
   "metadata": {},
   "source": [
    "Success. Let's do our proper train/test split:"
   ]
  },
  {
   "cell_type": "code",
   "execution_count": 21,
   "metadata": {},
   "outputs": [],
   "source": [
    "X, y = shuffle(X, y)\n",
    "X_train, X_test = X[:int(train_split * len(X))], X[int(train_split * len(X)):]\n",
    "y_train, y_test = y[:int(train_split * len(y))], y[int(train_split * len(y)):]"
   ]
  },
  {
   "cell_type": "markdown",
   "metadata": {},
   "source": [
    "We'll check to see of we've done so correctly by seeing if the sets add up and pass through DictVectorizer in scikit-learn:"
   ]
  },
  {
   "cell_type": "code",
   "execution_count": 22,
   "metadata": {},
   "outputs": [
    {
     "name": "stdout",
     "output_type": "stream",
     "text": [
      "76020 19005 76020 19005\n"
     ]
    }
   ],
   "source": [
    "print(len(X_train), len(X_test), len(y_train), len(y_test)) "
   ]
  },
  {
   "cell_type": "code",
   "execution_count": 23,
   "metadata": {},
   "outputs": [
    {
     "name": "stdout",
     "output_type": "stream",
     "text": [
      "[{'first-letter': 'm', 'first2-letters': 'ma', 'first3-letters': 'mar', 'last-letter': 'y', 'last2-letters': 'ry', 'last3-letters': 'ary'}\n",
      " {'first-letter': 'j', 'first2-letters': 'jo', 'first3-letters': 'joh', 'last-letter': 'n', 'last2-letters': 'hn', 'last3-letters': 'ohn'}]\n"
     ]
    },
    {
     "data": {
      "text/plain": [
       "DictVectorizer(dtype=<class 'numpy.float64'>, separator='=', sort=True,\n",
       "               sparse=True)"
      ]
     },
     "execution_count": 23,
     "metadata": {},
     "output_type": "execute_result"
    }
   ],
   "source": [
    "print(features([\"Mary\", \"John\"]))\n",
    "vectorizer = DictVectorizer()\n",
    "vectorizer.fit(X_train)"
   ]
  },
  {
   "cell_type": "markdown",
   "metadata": {},
   "source": [
    "Now we transform our data for decision tree classification, test the accuracy of our results, and deploy our model to the nursing home ownership data:"
   ]
  },
  {
   "cell_type": "code",
   "execution_count": 24,
   "metadata": {},
   "outputs": [
    {
     "data": {
      "text/plain": [
       "DecisionTreeClassifier(class_weight=None, criterion='gini', max_depth=None,\n",
       "                       max_features=None, max_leaf_nodes=None,\n",
       "                       min_impurity_decrease=0.0, min_impurity_split=None,\n",
       "                       min_samples_leaf=1, min_samples_split=2,\n",
       "                       min_weight_fraction_leaf=0.0, presort=False,\n",
       "                       random_state=None, splitter='best')"
      ]
     },
     "execution_count": 24,
     "metadata": {},
     "output_type": "execute_result"
    }
   ],
   "source": [
    "transformed = vectorizer.transform(features([\"Mary\", \"John\"]))\n",
    "clf = DecisionTreeClassifier()\n",
    "clf.fit(vectorizer.transform(X_train), y_train)"
   ]
  },
  {
   "cell_type": "code",
   "execution_count": 25,
   "metadata": {},
   "outputs": [
    {
     "name": "stdout",
     "output_type": "stream",
     "text": [
      "0.9875822152065246\n"
     ]
    }
   ],
   "source": [
    "# Accuracy on training set\n",
    "print(clf.score(vectorizer.transform(X_train), y_train))"
   ]
  },
  {
   "cell_type": "code",
   "execution_count": 26,
   "metadata": {},
   "outputs": [
    {
     "name": "stdout",
     "output_type": "stream",
     "text": [
      "0.8665088134701394\n"
     ]
    }
   ],
   "source": [
    "# Accuracy on test set\n",
    "print(clf.score(vectorizer.transform(X_test), y_test))"
   ]
  },
  {
   "cell_type": "code",
   "execution_count": 27,
   "metadata": {},
   "outputs": [],
   "source": [
    "nh_first_names = df_ownership_individuals['first_name'].tolist()"
   ]
  },
  {
   "cell_type": "code",
   "execution_count": 28,
   "metadata": {},
   "outputs": [
    {
     "name": "stderr",
     "output_type": "stream",
     "text": [
      "C:\\Users\\tdrace\\AppData\\Local\\Continuum\\anaconda3\\lib\\site-packages\\ipykernel_launcher.py:1: SettingWithCopyWarning: \n",
      "A value is trying to be set on a copy of a slice from a DataFrame.\n",
      "Try using .loc[row_indexer,col_indexer] = value instead\n",
      "\n",
      "See the caveats in the documentation: http://pandas.pydata.org/pandas-docs/stable/user_guide/indexing.html#returning-a-view-versus-a-copy\n",
      "  \"\"\"Entry point for launching an IPython kernel.\n"
     ]
    }
   ],
   "source": [
    "df_ownership_individuals['category'] = clf.predict(vectorizer.transform(features(nh_first_names)))"
   ]
  },
  {
   "cell_type": "code",
   "execution_count": 29,
   "metadata": {},
   "outputs": [],
   "source": [
    "df_ownership_individuals = df_ownership_individuals.drop(columns=['last_name', 'first_name'])"
   ]
  },
  {
   "cell_type": "markdown",
   "metadata": {},
   "source": [
    "Let's see how we did:"
   ]
  },
  {
   "cell_type": "code",
   "execution_count": 30,
   "metadata": {},
   "outputs": [
    {
     "data": {
      "text/html": [
       "<div>\n",
       "<style scoped>\n",
       "    .dataframe tbody tr th:only-of-type {\n",
       "        vertical-align: middle;\n",
       "    }\n",
       "\n",
       "    .dataframe tbody tr th {\n",
       "        vertical-align: top;\n",
       "    }\n",
       "\n",
       "    .dataframe thead th {\n",
       "        text-align: right;\n",
       "    }\n",
       "</style>\n",
       "<table border=\"1\" class=\"dataframe\">\n",
       "  <thead>\n",
       "    <tr style=\"text-align: right;\">\n",
       "      <th></th>\n",
       "      <th>Federal Provider Number</th>\n",
       "      <th>Provider Name</th>\n",
       "      <th>Role played by Owner or Manager in Facility</th>\n",
       "      <th>Owner Type</th>\n",
       "      <th>Owner Name</th>\n",
       "      <th>category</th>\n",
       "    </tr>\n",
       "  </thead>\n",
       "  <tbody>\n",
       "    <tr>\n",
       "      <th>0</th>\n",
       "      <td>185310</td>\n",
       "      <td>THE EPISCOPAL CHURCH HOME</td>\n",
       "      <td>DIRECTOR</td>\n",
       "      <td>Individual</td>\n",
       "      <td>THOMPSON, PAMALA</td>\n",
       "      <td>F</td>\n",
       "    </tr>\n",
       "    <tr>\n",
       "      <th>1</th>\n",
       "      <td>015019</td>\n",
       "      <td>MERRY WOOD LODGE CARE AND REHABILITATION CENTER</td>\n",
       "      <td>OFFICER</td>\n",
       "      <td>Individual</td>\n",
       "      <td>EDWARDS, JAN</td>\n",
       "      <td>F</td>\n",
       "    </tr>\n",
       "    <tr>\n",
       "      <th>2</th>\n",
       "      <td>225724</td>\n",
       "      <td>MEADOWS, THE</td>\n",
       "      <td>DIRECTOR</td>\n",
       "      <td>Individual</td>\n",
       "      <td>VAILL, TIMOTHY</td>\n",
       "      <td>M</td>\n",
       "    </tr>\n",
       "    <tr>\n",
       "      <th>3</th>\n",
       "      <td>015084</td>\n",
       "      <td>PARK PLACE</td>\n",
       "      <td>DIRECTOR</td>\n",
       "      <td>Individual</td>\n",
       "      <td>MCCURDY, CHAD</td>\n",
       "      <td>M</td>\n",
       "    </tr>\n",
       "    <tr>\n",
       "      <th>4</th>\n",
       "      <td>015104</td>\n",
       "      <td>SOUTHLAND NURSING HOME</td>\n",
       "      <td>DIRECTOR</td>\n",
       "      <td>Individual</td>\n",
       "      <td>SASSER, SHEILA</td>\n",
       "      <td>F</td>\n",
       "    </tr>\n",
       "    <tr>\n",
       "      <th>5</th>\n",
       "      <td>015132</td>\n",
       "      <td>DIVERSICARE OF OXFORD</td>\n",
       "      <td>DIRECTOR</td>\n",
       "      <td>Individual</td>\n",
       "      <td>MCCURDY, CHAD</td>\n",
       "      <td>M</td>\n",
       "    </tr>\n",
       "    <tr>\n",
       "      <th>6</th>\n",
       "      <td>015142</td>\n",
       "      <td>LINEVILLE HEALTH AND REHABILITATION, LLC</td>\n",
       "      <td>DIRECTOR</td>\n",
       "      <td>Individual</td>\n",
       "      <td>RICHBURG, JULIE</td>\n",
       "      <td>F</td>\n",
       "    </tr>\n",
       "    <tr>\n",
       "      <th>7</th>\n",
       "      <td>015167</td>\n",
       "      <td>MARION REGIONAL NURSING HOME</td>\n",
       "      <td>MANAGING EMPLOYEE</td>\n",
       "      <td>Individual</td>\n",
       "      <td>TRIMM, ROBERT</td>\n",
       "      <td>M</td>\n",
       "    </tr>\n",
       "    <tr>\n",
       "      <th>8</th>\n",
       "      <td>015189</td>\n",
       "      <td>DIVERSICARE OF PELL CITY</td>\n",
       "      <td>DIRECTOR</td>\n",
       "      <td>Individual</td>\n",
       "      <td>MCKNIGHT, JAMES</td>\n",
       "      <td>M</td>\n",
       "    </tr>\n",
       "    <tr>\n",
       "      <th>9</th>\n",
       "      <td>015208</td>\n",
       "      <td>OZARK HEALTH AND REHABILITATION, LLC</td>\n",
       "      <td>DIRECTOR</td>\n",
       "      <td>Individual</td>\n",
       "      <td>RICHBURG, JULIE</td>\n",
       "      <td>F</td>\n",
       "    </tr>\n",
       "  </tbody>\n",
       "</table>\n",
       "</div>"
      ],
      "text/plain": [
       "  Federal Provider Number                                    Provider Name  \\\n",
       "0                  185310                        THE EPISCOPAL CHURCH HOME   \n",
       "1                  015019  MERRY WOOD LODGE CARE AND REHABILITATION CENTER   \n",
       "2                  225724                                     MEADOWS, THE   \n",
       "3                  015084                                       PARK PLACE   \n",
       "4                  015104                           SOUTHLAND NURSING HOME   \n",
       "5                  015132                            DIVERSICARE OF OXFORD   \n",
       "6                  015142         LINEVILLE HEALTH AND REHABILITATION, LLC   \n",
       "7                  015167                     MARION REGIONAL NURSING HOME   \n",
       "8                  015189                         DIVERSICARE OF PELL CITY   \n",
       "9                  015208             OZARK HEALTH AND REHABILITATION, LLC   \n",
       "\n",
       "  Role played by Owner or Manager in Facility  Owner Type        Owner Name  \\\n",
       "0                                    DIRECTOR  Individual  THOMPSON, PAMALA   \n",
       "1                                     OFFICER  Individual      EDWARDS, JAN   \n",
       "2                                    DIRECTOR  Individual    VAILL, TIMOTHY   \n",
       "3                                    DIRECTOR  Individual     MCCURDY, CHAD   \n",
       "4                                    DIRECTOR  Individual    SASSER, SHEILA   \n",
       "5                                    DIRECTOR  Individual     MCCURDY, CHAD   \n",
       "6                                    DIRECTOR  Individual   RICHBURG, JULIE   \n",
       "7                           MANAGING EMPLOYEE  Individual     TRIMM, ROBERT   \n",
       "8                                    DIRECTOR  Individual   MCKNIGHT, JAMES   \n",
       "9                                    DIRECTOR  Individual   RICHBURG, JULIE   \n",
       "\n",
       "  category  \n",
       "0        F  \n",
       "1        F  \n",
       "2        M  \n",
       "3        M  \n",
       "4        F  \n",
       "5        M  \n",
       "6        F  \n",
       "7        M  \n",
       "8        M  \n",
       "9        F  "
      ]
     },
     "execution_count": 30,
     "metadata": {},
     "output_type": "execute_result"
    }
   ],
   "source": [
    "df_ownership_individuals.head(10)"
   ]
  },
  {
   "cell_type": "markdown",
   "metadata": {},
   "source": [
    "It's not perfect, but we've now made predictions as to the gender of each of the 123,621 individual owners found in the ownership data.\n",
    "\n",
    "Now we need to classify our organizations. Simple enough since we're bucketing them all together. We'll just add a character to designate them:"
   ]
  },
  {
   "cell_type": "code",
   "execution_count": 31,
   "metadata": {},
   "outputs": [
    {
     "name": "stderr",
     "output_type": "stream",
     "text": [
      "C:\\Users\\tdrace\\AppData\\Local\\Continuum\\anaconda3\\lib\\site-packages\\ipykernel_launcher.py:1: SettingWithCopyWarning: \n",
      "A value is trying to be set on a copy of a slice from a DataFrame.\n",
      "Try using .loc[row_indexer,col_indexer] = value instead\n",
      "\n",
      "See the caveats in the documentation: http://pandas.pydata.org/pandas-docs/stable/user_guide/indexing.html#returning-a-view-versus-a-copy\n",
      "  \"\"\"Entry point for launching an IPython kernel.\n"
     ]
    }
   ],
   "source": [
    "df_ownership_organizations['category'] = 'O'"
   ]
  },
  {
   "cell_type": "markdown",
   "metadata": {},
   "source": [
    "Let's pull the two ownership dataframes back together via concatenation:"
   ]
  },
  {
   "cell_type": "code",
   "execution_count": 32,
   "metadata": {},
   "outputs": [],
   "source": [
    "df_ownership_categorized = pd.concat([df_ownership_individuals, df_ownership_organizations])"
   ]
  },
  {
   "cell_type": "markdown",
   "metadata": {},
   "source": [
    "Turning our attention back to the dataset with the fines in it, we need a column that designates a Boolean of an observation being associated with a fine or not. Simple enough:"
   ]
  },
  {
   "cell_type": "code",
   "execution_count": 33,
   "metadata": {},
   "outputs": [],
   "source": [
    "def f(row):\n",
    "    if row['Total Amount of Fines in Dollars'] == 0.00:\n",
    "        val = 1\n",
    "    elif row['Total Amount of Fines in Dollars'] > 0.00:\n",
    "        val = 0\n",
    "    return val"
   ]
  },
  {
   "cell_type": "code",
   "execution_count": 34,
   "metadata": {},
   "outputs": [
    {
     "data": {
      "text/plain": [
       "1    10427\n",
       "0     5064\n",
       "Name: Fined?, dtype: int64"
      ]
     },
     "execution_count": 34,
     "metadata": {},
     "output_type": "execute_result"
    }
   ],
   "source": [
    "df_penalties['Fined?'] = df_penalties.apply(f, axis=1)\n",
    "df_penalties['Fined?'].value_counts()"
   ]
  },
  {
   "cell_type": "markdown",
   "metadata": {},
   "source": [
    "We can see that about a third of the nursing homes received fines.\n",
    "\n",
    "The next step is tricky. For each key, in this case Federal Provider Number, we need to caluclate which of the three ownership categories appear more often than the other two, and then map that result onto our penalties data. The code to do so is as follows:"
   ]
  },
  {
   "cell_type": "code",
   "execution_count": 35,
   "metadata": {},
   "outputs": [],
   "source": [
    "df_penalties['category'] = df_ownership_categorized['Federal Provider Number'].map(df_ownership_categorized.groupby('Federal Provider Number').category.value_counts().groupby(level=0).filter(lambda x: x.nunique() == len(x)).unstack().idxmax(1))"
   ]
  },
  {
   "cell_type": "markdown",
   "metadata": {},
   "source": [
    "The next step introduces problems with our analysis, which we will cover in our closing remarks, but since not every key can be associated with an ownership category that appears most often, we will drop nulls here:"
   ]
  },
  {
   "cell_type": "code",
   "execution_count": 36,
   "metadata": {},
   "outputs": [],
   "source": [
    "df_penalties_fined_categories = df_penalties[df_penalties['Fined?'] == 0].dropna()"
   ]
  },
  {
   "cell_type": "markdown",
   "metadata": {},
   "source": [
    "Now it's time to visualize our results. We will create category weights in order to draw normed historgrams that show proportions of observations; but first we'll reindex our data because we want our categories to appear in the same order on our graphs:"
   ]
  },
  {
   "cell_type": "code",
   "execution_count": 37,
   "metadata": {},
   "outputs": [],
   "source": [
    "categories_full = df_ownership_categorized['category'].sort_values()\n",
    "categories_full.columns = pd.CategoricalIndex(['category'], ordered=True)\n",
    "categories_fined = df_penalties_fined_categories['category'].sort_values()\n",
    "categories_fined.columns = pd.CategoricalIndex(['category'], ordered=True)"
   ]
  },
  {
   "cell_type": "markdown",
   "metadata": {},
   "source": [
    "First, these are the ownership compositions on the entire penalties dataset. This represents over 15,000 nursing homes which accept Medicare for payment:"
   ]
  },
  {
   "cell_type": "code",
   "execution_count": 38,
   "metadata": {},
   "outputs": [
    {
     "data": {
      "image/png": "[encoded data removed]",
      "text/plain": [
       "<Figure size 432x288 with 1 Axes>"
      ]
     },
     "metadata": {
      "needs_background": "light"
     },
     "output_type": "display_data"
    }
   ],
   "source": [
    "weights_full = np.ones_like(categories_full)/float(len(categories_full))\n",
    "hist_full = plt.hist(categories_full, weights=weights_full)"
   ]
  },
  {
   "cell_type": "markdown",
   "metadata": {},
   "source": [
    "In the entire dataset, about 25% of nursing homes that accept Medicare for payment are predominantly owned by females, about 50% owned by males, and about 25% are predominantly owned by other organizations.\n",
    "\n",
    "Now let's look at the data for nursing homes which recevied fines; this is for about 4,000 nursing homes after NaN values are dropped:"
   ]
  },
  {
   "cell_type": "code",
   "execution_count": 39,
   "metadata": {},
   "outputs": [
    {
     "data": {
      "image/png": "[encoded data removed]",
      "text/plain": [
       "<Figure size 432x288 with 1 Axes>"
      ]
     },
     "metadata": {
      "needs_background": "light"
     },
     "output_type": "display_data"
    }
   ],
   "source": [
    "weights_fined = np.ones_like(categories_fined)/float(len(categories_fined))\n",
    "hist_fined = plt.hist(categories_fined, weights=weights_fined)"
   ]
  },
  {
   "cell_type": "markdown",
   "metadata": {},
   "source": [
    "We see that of the nursing homes that have received a fine in the last year, about 15% are predominantly owned by females, about 50% by males (the same as the full data), and about 35% by organizations.\n",
    "\n",
    "In other words, it seems that nursing homes owned predominantly by females are less likely to receive fines, that male ownership appears to have no effect, and organizational ownership seems to result in higher likelihood of a nursing home receiving a fine."
   ]
  },
  {
   "cell_type": "markdown",
   "metadata": {},
   "source": [
    "## Limitations and Conclusion\n",
    "\n",
    "A major problem with how the data was prepared for this exercise was the dropping of nulls after mapping categories onto penalties. This results in a possible oversampling of organizational data in the final predictions. However, at least in this run, the proportions of males to females appear to be the same, so further analysis on the breakdown and effect of these categories is needed. A data preparation method better suited to measurement like multinomial logistic regression, where categories each have their own feature counts as discrete buckets instead of the max frequency sampling we've done here, would have been perhaps better suited to what we were trying to do.\n",
    "\n",
    "Regardless, this is important groundwork for prediciting the likelihood of fines based on ownership composition."
   ]
  },
  {
   "cell_type": "markdown",
   "metadata": {},
   "source": [
    "## References\n",
    "\n",
    "Amirkhanyan, A. A., Meier, K. J., O’Toole Jr., L. J., Dakhwe, M. A., & Janzen, S. (2018). Management and Performance in US Nursing Homes. Journal of Public Administration Research & Theory, 28(1), 33. Retrieved from edb.\n",
    "\n",
    "Drevs, F., Tscheulin, D. K., & Lindenmeier, J. (2014). Do Patient Perceptions Vary With Ownership Status? A Study of Nonprofit, For-Profit, and Public Hospital Patients. Nonprofit & Voluntary Sector Quarterly, 43(1), 164. Retrieved from edb.\n",
    "\n",
    "Eramo, L. A. (2019). 7 tips to maximize revenue for nursing home services. Medical Economics, (1). Retrieved from http://ezproxy.bellevue.edu/login?url=https://search.ebscohost.com/login.aspx?direct=true&db=edsbig&AN=edsbig.A574852509&site=eds-live\n",
    "\n",
    "Hirth, R., Grabowski, D., Feng, Z., Rahman, M., & Mor, V. (2014). Effect of nursing home ownership on hospitalization of long-stay residents: An instrumental variables approach. International Journal of Health Care Finance & Economics, 14(1), 1. Retrieved from edb.\n",
    "\n",
    "Konetzka, R. T., Norton, E. C., & Stearns, S. C. (2006). Medicare Payment Changes and Nursing Home Quality: Effects on Long-Stay Residents. International Journal of Health Care Finance and Economics, 6(3), 173. https://doi.org/10.1007/s10754-006-9000-9\n",
    "\n",
    "Mezuk, B., Lohman, M., Leslie, M., & Powell, V. (2015). Suicide Risk in Nursing Homes and Assisted Living Facilities 2003-2011. American Journal of Public Health, 105(7), 1495–1502. Retrieved from pbh."
   ]
  },
  {
   "cell_type": "code",
   "execution_count": null,
   "metadata": {},
   "outputs": [],
   "source": []
  }
 ],
 "metadata": {
  "kernelspec": {
   "display_name": "Python 3",
   "language": "python",
   "name": "python3"
  },
  "language_info": {
   "codemirror_mode": {
    "name": "ipython",
    "version": 3
   },
   "file_extension": ".py",
   "mimetype": "text/x-python",
   "name": "python",
   "nbconvert_exporter": "python",
   "pygments_lexer": "ipython3",
   "version": "3.7.6"
  }
 },
 "nbformat": 4,
 "nbformat_minor": 2
}
